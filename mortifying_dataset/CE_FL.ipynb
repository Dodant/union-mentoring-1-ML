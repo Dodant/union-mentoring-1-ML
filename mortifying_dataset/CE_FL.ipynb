{
 "cells": [
  {
   "cell_type": "code",
   "execution_count": 57,
   "id": "a9cbd6ea-dda8-40ef-946a-249dfb04afe5",
   "metadata": {},
   "outputs": [
    {
     "name": "stdout",
     "output_type": "stream",
     "text": [
      "tensor(0.1054)\n",
      "0.10536054214877988\n",
      "0.10536054214877988\n",
      "0.0010536059271544218\n"
     ]
    }
   ],
   "source": [
    "import math\n",
    "import torch\n",
    "\n",
    "def CE_1(predict, label): # input list, list\n",
    "    loss = 0\n",
    "    for i in range(len(predict)):\n",
    "        loss += label[i]*math.log(predict[i])\n",
    "    return -loss\n",
    "\n",
    "def CE_2(predict, label_index): # input list, index\n",
    "    return -math.log(predict[label_index])\n",
    "    \n",
    "def CE(predict, label): # input list, list\n",
    "    return -math.log(predict[torch.argmax(label)])\n",
    "    \n",
    "# def FL(predict, label, gamma=2): #input list, list, float\n",
    "#     pt = predict[torch.argmax(label)]\n",
    "#     return ((1 - pt)**gamma * -math.log(pt)).item()\n",
    "    \n",
    "    \n",
    "# predicts = Tensor, label = Tensor, loss = float\n",
    "predict = torch.tensor([0.05, 0.9, 0.05])\n",
    "label = torch.tensor([0, 1, 0])\n",
    "label_index = 1\n",
    "\n",
    "print(CE_1(predict, label))\n",
    "print(CE_2(predict, label_index))\n",
    "print(CE(predict, label))\n",
    "                 \n",
    "# print(FL(predict, label))"
   ]
  },
  {
   "cell_type": "code",
   "execution_count": 94,
   "id": "b9103ad7-ee9c-4ffb-990c-99cb3e2ad1e9",
   "metadata": {},
   "outputs": [
    {
     "name": "stdout",
     "output_type": "stream",
     "text": [
      "tensor([[1., 3., 2., 4.],\n",
      "        [3., 8., 4., 6.]])\n",
      "tensor([3, 1])\n",
      "tensor(0.2945)\n",
      "tensor(0.2945)\n",
      "tensor(0.2945)\n"
     ]
    }
   ],
   "source": [
    "import torch.nn as nn\n",
    "import torch.nn.functional as F\n",
    "\n",
    "ls = [[1,3,2,4],\n",
    "      [3,8,4,6]]\n",
    "label = [3,1]\n",
    "\n",
    "ls_tensor = torch.Tensor(ls)\n",
    "label_tensor = torch.tensor(label, dtype=torch.long)\n",
    "criterion = nn.CrossEntropyLoss()\n",
    "\n",
    "print(ls_tensor)\n",
    "print(label_tensor)\n",
    "# tensor([[1., 3., 2., 4.],\n",
    "#         [3., 8., 4., 6.]])\n",
    "# tensor([2, 1])\n",
    "\n",
    "def CEE(predict, label):\n",
    "    delta = 1e-7\n",
    "    predict_sm = torch.softmax(predict, dim=1)\n",
    "    label = F.one_hot(label, num_classes=len(predict[0]))\n",
    "    return torch.mean((label * -torch.log(predict_sm + delta)).sum(dim=1))\n",
    "\n",
    "def CEE2(predict, label): # LogSoftmax + NLLLoss\n",
    "    predict_log = nn.LogSoftmax(dim=1)(predict)\n",
    "    return nn.NLLLoss()(predict_log, label)\n",
    "    \n",
    "# 1.2945\n",
    "print(CEE(ls_tensor, label_tensor))\n",
    "print(CEE2(ls_tensor, label_tensor))\n",
    "print(criterion(ls_tensor, label_tensor))"
   ]
  },
  {
   "cell_type": "code",
   "execution_count": 95,
   "id": "5f58615e-dbe7-4cad-b7d4-4abb4f46ccbb",
   "metadata": {},
   "outputs": [
    {
     "name": "stdout",
     "output_type": "stream",
     "text": [
      "tensor(0.0293)\n"
     ]
    }
   ],
   "source": [
    "ls = [[1,3,2,4],\n",
    "      [3,8,4,6]]\n",
    "label = [3,1]\n",
    "\n",
    "ls_tensor = torch.Tensor(ls)\n",
    "label_tensor = torch.tensor(label, dtype=torch.long)\n",
    "\n",
    "def FL(predict, label, alpha=1., gamma=2.0):\n",
    "    predict_sm = torch.softmax(predict, dim=1)\n",
    "    label = F.one_hot(label, num_classes=len(predict[0]))\n",
    "    factor = alpha * (1-predict_sm)**gamma\n",
    "    return torch.mean((factor * (label * -torch.log(predict_sm))).sum(dim=1))\n",
    "\n",
    "print(FL(ls_tensor, label_tensor))"
   ]
  },
  {
   "cell_type": "code",
   "execution_count": 64,
   "id": "b4a17272-4e3c-463b-ad78-d4b4453ab73d",
   "metadata": {},
   "outputs": [
    {
     "name": "stdout",
     "output_type": "stream",
     "text": [
      "tensor([[1., 3., 2., 4.],\n",
      "        [3., 8., 4., 6.]])\n",
      "tensor([2, 1])\n",
      "tensor(1.2945)\n",
      "tensor(0.4402)\n",
      "tensor(0.1488)\n",
      "tensor(0.5889)\n"
     ]
    }
   ],
   "source": [
    "import torch.nn as nn\n",
    "\n",
    "ls = [[1,3,2,4],\n",
    "      [3,8,4,6]]\n",
    "label = [2,1]\n",
    "\n",
    "ls_tensor = torch.Tensor(ls)\n",
    "label_tensor = torch.tensor(label, dtype=torch.long)\n",
    "\n",
    "print(ls_tensor)\n",
    "print(label_tensor)\n",
    "\n",
    "criterion = nn.CrossEntropyLoss()\n",
    "loss = criterion(ls_tensor, label_tensor)\n",
    "print(loss)\n",
    "\n",
    "##############################################################\n",
    "\n",
    "ls = [[1,3,2,4]]\n",
    "label = [3]\n",
    "\n",
    "ls_tensor = torch.Tensor(ls)\n",
    "label_tensor = torch.tensor(label, dtype=torch.long)\n",
    "\n",
    "loss1 = criterion(ls_tensor, label_tensor)\n",
    "print(loss1)\n",
    "\n",
    "##############################################################\n",
    "\n",
    "ls = [[3,8,4,6]]\n",
    "label = [1]\n",
    "\n",
    "ls_tensor = torch.Tensor(ls)\n",
    "label_tensor = torch.tensor(label, dtype=torch.long)\n",
    "\n",
    "criterion = nn.CrossEntropyLoss()\n",
    "loss2 = criterion(ls_tensor, label_tensor)\n",
    "print(loss2)\n",
    "\n",
    "print((loss1 + loss2))"
   ]
  },
  {
   "cell_type": "code",
   "execution_count": 65,
   "id": "a2e89464-44b8-45bd-a3bb-a1386d249256",
   "metadata": {},
   "outputs": [
    {
     "name": "stdout",
     "output_type": "stream",
     "text": [
      "tensor([2, 3, 1, 1, 0])\n",
      "tensor([[0., 0., 1., 0., 0., 0., 0., 0., 0., 0.],\n",
      "        [0., 0., 0., 1., 0., 0., 0., 0., 0., 0.],\n",
      "        [0., 1., 0., 0., 0., 0., 0., 0., 0., 0.],\n",
      "        [0., 1., 0., 0., 0., 0., 0., 0., 0., 0.],\n",
      "        [1., 0., 0., 0., 0., 0., 0., 0., 0., 0.]])\n"
     ]
    }
   ],
   "source": [
    "t = torch.randint(0,9, (5,))\n",
    "print(t)\n",
    "\n",
    "a = torch.zeros((5,10))\n",
    "a[range(5), t] = 1\n",
    "print(a)"
   ]
  },
  {
   "cell_type": "code",
   "execution_count": null,
   "id": "f1855fa2-e25d-4e9b-bcb6-84d347f9e58a",
   "metadata": {},
   "outputs": [],
   "source": []
  }
 ],
 "metadata": {
  "kernelspec": {
   "display_name": "Python 3 (ipykernel)",
   "language": "python",
   "name": "python3"
  },
  "language_info": {
   "codemirror_mode": {
    "name": "ipython",
    "version": 3
   },
   "file_extension": ".py",
   "mimetype": "text/x-python",
   "name": "python",
   "nbconvert_exporter": "python",
   "pygments_lexer": "ipython3",
   "version": "3.8.0"
  },
  "widgets": {
   "application/vnd.jupyter.widget-state+json": {
    "state": {},
    "version_major": 2,
    "version_minor": 0
   }
  }
 },
 "nbformat": 4,
 "nbformat_minor": 5
}
