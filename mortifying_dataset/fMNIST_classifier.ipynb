{
 "cells": [
  {
   "cell_type": "code",
   "execution_count": 23,
   "id": "5a5150e0-c9c2-4822-a6d9-1eaacbedd09b",
   "metadata": {},
   "outputs": [],
   "source": [
    "import torch\n",
    "import torchvision\n",
    "import torchvision.transforms as transforms\n",
    "from torch.utils.data.dataset import random_split\n",
    "from torch.utils.data import DataLoader\n",
    "from torchvision.datasets import FashionMNIST\n",
    "import numpy as np"
   ]
  },
  {
   "cell_type": "code",
   "execution_count": 24,
   "id": "f5be31cc-2124-420e-92ce-c8bcf1cdd531",
   "metadata": {
    "tags": []
   },
   "outputs": [],
   "source": [
    "transform = transforms.Compose(\n",
    "    [transforms.ToTensor(),\n",
    "     transforms.Resize((64, 64))])\n",
    "\n",
    "batch_size = 128\n",
    "\n",
    "fmnistset = FashionMNIST('./data/', train=True, download=True, transform=transform)\n",
    "\n",
    "trainset, valid_set = random_split(fmnistset, [50000, 10000])\n",
    "trainloader = DataLoader(trainset, batch_size=batch_size, shuffle=True, num_workers=2)\n",
    "valid_loader = DataLoader(valid_set, batch_size=batch_size, shuffle=True, num_workers=2)\n",
    "\n",
    "testset = FashionMNIST('./data/', train=False, download=True, transform=transform)\n",
    "testloader = DataLoader(testset, batch_size=batch_size, shuffle=True, num_workers=2)\n",
    "\n",
    "classes = ('top','trouser','pullover','dress','coat','sandal','shirt','sneaker','bag','boot')"
   ]
  },
  {
   "cell_type": "code",
   "execution_count": 25,
   "id": "a20c5567-fa2f-4bb8-82c6-7f5c8ea94739",
   "metadata": {},
   "outputs": [
    {
     "name": "stdout",
     "output_type": "stream",
     "text": [
      "torch.Size([64, 64])\n"
     ]
    }
   ],
   "source": [
    "dataiter = iter(trainloader)\n",
    "# next()함수로 다음 배치 1개 갖고오기\n",
    "images, labels = next(dataiter)\n",
    "print(images[0][0].shape)"
   ]
  },
  {
   "cell_type": "code",
   "execution_count": 26,
   "id": "ae655466-c25e-43be-8750-506420640473",
   "metadata": {
    "tags": []
   },
   "outputs": [
    {
     "data": {
      "text/plain": [
       "Net(\n",
       "  (conv1): Conv2d(1, 64, kernel_size=(5, 5), stride=(1, 1))\n",
       "  (conv2): Conv2d(64, 64, kernel_size=(5, 5), stride=(1, 1))\n",
       "  (conv3): Conv2d(64, 128, kernel_size=(3, 3), stride=(1, 1))\n",
       "  (conv4): Conv2d(128, 128, kernel_size=(3, 3), stride=(1, 1))\n",
       "  (conv5): Conv2d(128, 128, kernel_size=(3, 3), stride=(1, 1))\n",
       "  (conv6): Conv2d(128, 128, kernel_size=(3, 3), stride=(1, 1))\n",
       "  (pool): MaxPool2d(kernel_size=2, stride=2, padding=0, dilation=1, ceil_mode=False)\n",
       "  (fc1): Linear(in_features=2048, out_features=2048, bias=True)\n",
       "  (fc2): Linear(in_features=2048, out_features=1024, bias=True)\n",
       "  (fc3): Linear(in_features=1024, out_features=512, bias=True)\n",
       "  (fc4): Linear(in_features=512, out_features=128, bias=True)\n",
       "  (fc5): Linear(in_features=128, out_features=10, bias=True)\n",
       "  (dropout): Dropout(p=0.5, inplace=False)\n",
       ")"
      ]
     },
     "execution_count": 26,
     "metadata": {},
     "output_type": "execute_result"
    }
   ],
   "source": [
    "import torch.nn as nn\n",
    "import torch.nn.functional as F\n",
    "\n",
    "\n",
    "class Net(nn.Module):\n",
    "    def __init__(self):\n",
    "        super().__init__()\n",
    "        self.conv1 = nn.Conv2d(1, 64, 5)\n",
    "        self.conv2 = nn.Conv2d(64, 64, 5)\n",
    "        \n",
    "        self.conv3 = nn.Conv2d(64, 128, 3)\n",
    "        self.conv4 = nn.Conv2d(128, 128, 3)\n",
    "        \n",
    "        self.conv5 = nn.Conv2d(128, 128, 3)\n",
    "        self.conv6 = nn.Conv2d(128, 128, 3)\n",
    "        \n",
    "        self.pool = nn.MaxPool2d(2, 2)\n",
    "        \n",
    "        self.fc1 = nn.Linear(128 * 4 * 4, 2048)\n",
    "        self.fc2 = nn.Linear(2048, 1024)\n",
    "        self.fc3 = nn.Linear(1024, 512)\n",
    "        self.fc4 = nn.Linear(512, 128)\n",
    "        self.fc5 = nn.Linear(128, 10)\n",
    "        self.dropout = nn.Dropout(0.5)\n",
    "\n",
    "\n",
    "    def forward(self, x):\n",
    "        x = F.relu(self.conv1(x))\n",
    "        x = F.relu(self.conv2(x))\n",
    "        x = self.pool(x)\n",
    "        x = F.relu(self.conv3(x))\n",
    "        x = F.relu(self.conv4(x))\n",
    "        x = self.pool(x)\n",
    "        x = F.relu(self.conv5(x))\n",
    "        x = F.relu(self.conv6(x))\n",
    "        x = self.pool(x)\n",
    "        x = torch.flatten(x, 1) # 배치를 제외한 모든 차원을 평탄화(flatten)\n",
    "        x = self.dropout(F.relu(self.fc1(x)))\n",
    "        x = self.dropout(F.relu(self.fc2(x)))\n",
    "        x = self.dropout(F.relu(self.fc3(x)))\n",
    "        x = F.relu(self.fc4(x))\n",
    "        x = self.fc5(x)\n",
    "        return x\n",
    "\n",
    "\n",
    "net = Net()\n",
    "\n",
    "device = torch.device(\"cuda:0\" if torch.cuda.is_available() else \"cpu\")\n",
    "net.to(device)"
   ]
  },
  {
   "cell_type": "code",
   "execution_count": 27,
   "id": "5db85ed7-2799-497a-9b89-024688d5d5ef",
   "metadata": {},
   "outputs": [],
   "source": [
    "import torch.optim as optim\n",
    "\n",
    "criterion = nn.CrossEntropyLoss()\n",
    "optimizer = optim.Adam(net.parameters(), lr=0.0001)\n",
    "# scheduler = optim.lr_scheduler.LambdaLR(optimizer=optimizer, lr_lambda=lambda epoch: 0.95 ** epoch)"
   ]
  },
  {
   "cell_type": "code",
   "execution_count": 28,
   "id": "ac085d97-ada8-400b-9837-5fa24e653ac3",
   "metadata": {},
   "outputs": [],
   "source": [
    "train_loss_history, train_acc_history = [], []\n",
    "valid_loss_history, valid_acc_history = [], []"
   ]
  },
  {
   "cell_type": "code",
   "execution_count": 29,
   "id": "0178c034-1502-48d5-8edc-db38a1347e8a",
   "metadata": {
    "tags": []
   },
   "outputs": [
    {
     "name": "stdout",
     "output_type": "stream",
     "text": [
      "epoch: 1 || tl: 1.042, vl: 0.113 | ta: 59.764, va: 75.110\n",
      "epoch: 2 || tl: 0.588, vl: 0.091 | ta: 77.110, va: 78.810\n",
      "epoch: 3 || tl: 0.507, vl: 0.080 | ta: 80.370, va: 82.030\n",
      "epoch: 4 || tl: 0.460, vl: 0.153 | ta: 82.526, va: 83.640\n",
      "epoch: 5 || tl: 0.418, vl: 0.148 | ta: 84.454, va: 84.200\n",
      "epoch: 6 || tl: 0.383, vl: 0.076 | ta: 85.828, va: 85.550\n",
      "epoch: 7 || tl: 0.356, vl: 0.063 | ta: 86.924, va: 86.730\n",
      "epoch: 8 || tl: 0.334, vl: 0.091 | ta: 87.552, va: 87.930\n",
      "epoch: 9 || tl: 0.317, vl: 0.094 | ta: 88.320, va: 88.170\n",
      "epoch: 10 || tl: 0.302, vl: 0.033 | ta: 88.944, va: 88.360\n",
      "epoch: 11 || tl: 0.288, vl: 0.066 | ta: 89.442, va: 88.930\n",
      "epoch: 12 || tl: 0.272, vl: 0.081 | ta: 90.084, va: 89.510\n",
      "epoch: 13 || tl: 0.257, vl: 0.140 | ta: 90.584, va: 89.640\n",
      "epoch: 14 || tl: 0.245, vl: 0.082 | ta: 90.980, va: 89.660\n",
      "epoch: 15 || tl: 0.234, vl: 0.077 | ta: 91.470, va: 89.750\n",
      "epoch: 16 || tl: 0.221, vl: 0.053 | ta: 92.058, va: 90.340\n",
      "epoch: 17 || tl: 0.212, vl: 0.081 | ta: 92.378, va: 90.300\n",
      "epoch: 18 || tl: 0.198, vl: 0.064 | ta: 92.912, va: 90.600\n",
      "epoch: 19 || tl: 0.190, vl: 0.040 | ta: 93.024, va: 90.300\n",
      "epoch: 20 || tl: 0.179, vl: 0.033 | ta: 93.438, va: 90.640\n",
      "epoch: 21 || tl: 0.170, vl: 0.206 | ta: 93.842, va: 90.300\n",
      "epoch: 22 || tl: 0.160, vl: 0.119 | ta: 94.196, va: 90.820\n",
      "epoch: 23 || tl: 0.147, vl: 0.354 | ta: 94.694, va: 90.930\n",
      "epoch: 24 || tl: 0.141, vl: 0.049 | ta: 94.910, va: 90.560\n",
      "epoch: 25 || tl: 0.130, vl: 0.010 | ta: 95.360, va: 90.500\n",
      "epoch: 26 || tl: 0.124, vl: 0.076 | ta: 95.430, va: 90.950\n",
      "epoch: 27 || tl: 0.117, vl: 0.102 | ta: 95.784, va: 90.700\n",
      "epoch: 28 || tl: 0.106, vl: 0.008 | ta: 96.202, va: 90.880\n",
      "epoch: 29 || tl: 0.097, vl: 0.114 | ta: 96.512, va: 90.850\n",
      "epoch: 30 || tl: 0.094, vl: 0.145 | ta: 96.596, va: 90.910\n",
      "epoch: 31 || tl: 0.084, vl: 0.128 | ta: 96.916, va: 90.730\n",
      "epoch: 32 || tl: 0.080, vl: 0.217 | ta: 97.042, va: 90.700\n",
      "epoch: 33 || tl: 0.074, vl: 0.022 | ta: 97.316, va: 90.980\n",
      "epoch: 34 || tl: 0.068, vl: 0.168 | ta: 97.554, va: 90.740\n",
      "epoch: 35 || tl: 0.067, vl: 0.097 | ta: 97.624, va: 90.790\n",
      "epoch: 36 || tl: 0.060, vl: 0.122 | ta: 97.868, va: 90.650\n",
      "epoch: 37 || tl: 0.058, vl: 0.114 | ta: 97.886, va: 90.360\n",
      "epoch: 38 || tl: 0.055, vl: 0.147 | ta: 98.082, va: 90.450\n",
      "epoch: 39 || tl: 0.050, vl: 0.007 | ta: 98.166, va: 90.420\n",
      "epoch: 40 || tl: 0.051, vl: 0.027 | ta: 98.130, va: 90.870\n",
      "epoch: 41 || tl: 0.047, vl: 0.324 | ta: 98.296, va: 90.740\n",
      "epoch: 42 || tl: 0.048, vl: 0.140 | ta: 98.310, va: 90.720\n",
      "epoch: 43 || tl: 0.044, vl: 0.144 | ta: 98.458, va: 90.840\n",
      "epoch: 44 || tl: 0.041, vl: 0.107 | ta: 98.522, va: 90.810\n",
      "epoch: 45 || tl: 0.036, vl: 0.236 | ta: 98.698, va: 90.550\n",
      "epoch: 46 || tl: 0.035, vl: 0.141 | ta: 98.766, va: 90.720\n",
      "epoch: 47 || tl: 0.035, vl: 0.223 | ta: 98.806, va: 90.590\n",
      "epoch: 48 || tl: 0.034, vl: 0.422 | ta: 98.794, va: 91.020\n",
      "epoch: 49 || tl: 0.034, vl: 0.006 | ta: 98.840, va: 90.470\n",
      "epoch: 50 || tl: 0.032, vl: 0.125 | ta: 98.906, va: 90.870\n",
      "Finished Training\n"
     ]
    }
   ],
   "source": [
    "epochs = 50\n",
    "\n",
    "for epoch in range(epochs):   # 데이터셋을 수차례 반복합니다.\n",
    "    train_loss = 0.0\n",
    "    train_acc = 0.0\n",
    "    valid_loss = 0.0\n",
    "    valid_acc = 0.0\n",
    "    \n",
    "    train_samples = 0\n",
    "    valid_samples = 0\n",
    "    \n",
    "    for inputs, labels in trainloader:\n",
    "        inputs, labels = inputs.to(device), labels.to(device)\n",
    "\n",
    "        # 변화도(Gradient) 매개변수를 0으로 만들고\n",
    "        optimizer.zero_grad()\n",
    "\n",
    "        # 순전파 + 역전파 + 최적화를 한 후\n",
    "        outputs = net(inputs)\n",
    "        loss = criterion(outputs, labels)\n",
    "        loss.backward()\n",
    "        optimizer.step()\n",
    "#         scheduler.step()\n",
    "\n",
    "        _, preds = torch.max(outputs, 1)\n",
    "        train_loss += loss.item()\n",
    "        train_acc += torch.sum(preds == labels.data)\n",
    "        train_samples += len(inputs)\n",
    "    \n",
    "    else:\n",
    "        # 훈련팔 필요가 없으므로 메모리 절약\n",
    "        with torch.no_grad():\n",
    "            for valid_input, valid_label in valid_loader:\n",
    "                valid_input, valid_label = valid_input.to(device), valid_label.to(device)\n",
    "                valid_outputs = net(valid_input)\n",
    "                valid_loss = criterion(valid_outputs, valid_label)\n",
    "\n",
    "                _, valid_preds = torch.max(valid_outputs, 1)\n",
    "                valid_loss += valid_loss.item()\n",
    "                valid_acc += torch.sum(valid_preds == valid_label.data)\n",
    "                valid_samples += len(valid_input)\n",
    "                \n",
    "    epoch_loss = train_loss / len(trainloader)\n",
    "    epoch_acc = train_acc.float() / train_samples * 100\n",
    "    train_loss_history.append(epoch_loss)\n",
    "    train_acc_history.append(epoch_acc)\n",
    "\n",
    "    valid_epoch_loss = valid_loss * 10 / len(valid_loader)\n",
    "    valid_epoch_acc = valid_acc.float() / valid_samples * 100\n",
    "    valid_loss_history.append(valid_epoch_loss)\n",
    "    valid_acc_history.append(valid_epoch_acc)\n",
    "\n",
    "#     if (epoch + 1) % 5 == 0:\n",
    "    print(f\"epoch: {epoch + 1} || tl: {epoch_loss:.3f}, vl: {valid_epoch_loss:.3f} | ta: {epoch_acc:.3f}, va: {valid_epoch_acc:.3f}\")\n",
    "\n",
    "print('Finished Training')"
   ]
  },
  {
   "cell_type": "code",
   "execution_count": 30,
   "id": "5cc2fe64-11e2-4373-b227-8cba4cbf7950",
   "metadata": {},
   "outputs": [
    {
     "name": "stdout",
     "output_type": "stream",
     "text": [
      "Accuracy of the network on the 10000 test images: 90 %\n"
     ]
    }
   ],
   "source": [
    "correct = 0\n",
    "total = 0\n",
    "# 학습 중이 아니므로, 출력에 대한 변화도를 계산할 필요가 없습니다\n",
    "with torch.no_grad():\n",
    "    for images, labels in testloader:\n",
    "        images, labels = images.to(device), labels.to(device)\n",
    "        \n",
    "        # 신경망에 이미지를 통과시켜 출력을 계산합니다\n",
    "        outputs = net(images)\n",
    "        # 가장 높은 값(energy)를 갖는 분류(class)를 정답으로 선택하겠습니다\n",
    "        _, predicted = torch.max(outputs.data, 1)\n",
    "        total += labels.size(0)\n",
    "        correct += (predicted == labels).sum().item()\n",
    "\n",
    "print('Accuracy of the network on the 10000 test images: %d %%' % (100 * correct / total))"
   ]
  },
  {
   "cell_type": "code",
   "execution_count": 31,
   "id": "039879d6-f3f6-4a9a-9e51-bfbcbc990692",
   "metadata": {},
   "outputs": [
    {
     "name": "stdout",
     "output_type": "stream",
     "text": [
      "Accuracy for class top   is: 86.3 %\n",
      "Accuracy for class trouser is: 97.9 %\n",
      "Accuracy for class pullover is: 86.0 %\n",
      "Accuracy for class dress is: 89.2 %\n",
      "Accuracy for class coat  is: 87.4 %\n",
      "Accuracy for class sandal is: 98.0 %\n",
      "Accuracy for class shirt is: 71.8 %\n",
      "Accuracy for class sneaker is: 94.8 %\n",
      "Accuracy for class bag   is: 98.3 %\n",
      "Accuracy for class boot  is: 96.1 %\n"
     ]
    }
   ],
   "source": [
    "correct_pred = {classname: 0 for classname in classes}\n",
    "total_pred = {classname: 0 for classname in classes}\n",
    "\n",
    "# 변화도는 여전히 필요하지 않습니다\n",
    "with torch.no_grad():\n",
    "    for images, labels in testloader:\n",
    "        images, labels = images.to(device), labels.to(device)\n",
    "        \n",
    "        outputs = net(images)\n",
    "        _, predictions = torch.max(outputs, 1)\n",
    "        # 각 분류별로 올바른 예측 수를 모읍니다\n",
    "        for label, prediction in zip(labels, predictions):\n",
    "            if label == prediction:\n",
    "                correct_pred[classes[label]] += 1\n",
    "            total_pred[classes[label]] += 1\n",
    "\n",
    "\n",
    "# 각 분류별 정확도(accuracy)를 출력합니다\n",
    "for classname, correct_count in correct_pred.items():\n",
    "    accuracy = 100 * float(correct_count) / total_pred[classname]\n",
    "    print(\"Accuracy for class {:5s} is: {:.1f} %\".format(classname, accuracy))"
   ]
  },
  {
   "cell_type": "code",
   "execution_count": 32,
   "id": "f3d033b0-cb6e-42f5-92f9-c04e4a866ef1",
   "metadata": {},
   "outputs": [
    {
     "data": {
      "image/png": "[encoded data removed]",
      "text/plain": [
       "<Figure size 1008x360 with 1 Axes>"
      ]
     },
     "metadata": {
      "needs_background": "light"
     },
     "output_type": "display_data"
    }
   ],
   "source": [
    "import matplotlib.pyplot as plt\n",
    "\n",
    "plt.figure(figsize=(14,5))\n",
    "# plt.subplot(1, 2, 1)  \n",
    "# plt.title(\"Training and Validation Loss\")\n",
    "# plt.plot(valid_loss_history,label=\"val\")\n",
    "# plt.plot(train_loss_history,label=\"train\")\n",
    "# plt.xlabel(\"Epoch\")\n",
    "# plt.ylabel(\"Loss\")\n",
    "# plt.legend()\n",
    "\n",
    "# plt.subplot(1, 2, 2) \n",
    "plt.title(\"Training and Validation Acc\")\n",
    "plt.plot(valid_acc_history,label=\"val\")\n",
    "plt.plot(train_acc_history,label=\"train\")\n",
    "plt.xlabel(\"Epoch\")\n",
    "plt.ylabel(\"Acc\")\n",
    "plt.legend()\n",
    "plt.show()"
   ]
  },
  {
   "cell_type": "code",
   "execution_count": 33,
   "id": "50ac4e98-49e1-4ec0-99b8-11c3f34ac915",
   "metadata": {},
   "outputs": [],
   "source": [
    "PATH = './fmnist_net.pth'\n",
    "torch.save(net.state_dict(), PATH)\n",
    "\n",
    "# net = Net()\n",
    "# net.load_state_dict(torch.load(PATH))\n",
    "# net.to(device)"
   ]
  },
  {
   "cell_type": "code",
   "execution_count": null,
   "id": "2cca06f4-838b-4397-8dab-de821ad62bda",
   "metadata": {},
   "outputs": [],
   "source": []
  }
 ],
 "metadata": {
  "kernelspec": {
   "display_name": "Python 3 (ipykernel)",
   "language": "python",
   "name": "python3"
  },
  "language_info": {
   "codemirror_mode": {
    "name": "ipython",
    "version": 3
   },
   "file_extension": ".py",
   "mimetype": "text/x-python",
   "name": "python",
   "nbconvert_exporter": "python",
   "pygments_lexer": "ipython3",
   "version": "3.8.0"
  }
 },
 "nbformat": 4,
 "nbformat_minor": 5
}
