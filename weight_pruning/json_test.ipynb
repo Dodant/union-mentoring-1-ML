{
 "cells": [
  {
   "cell_type": "code",
   "execution_count": 2,
   "id": "a25cf48d-5bc3-429e-992e-ec539fe0a58b",
   "metadata": {},
   "outputs": [
    {
     "name": "stdout",
     "output_type": "stream",
     "text": [
      "{'p': [{'trainset_acctestset_accnum_of_zerosnum_of_weightspruned_ratio'}]}\n"
     ]
    }
   ],
   "source": [
    "import json\n",
    "\n",
    "file_path = \"./sdfsdf/json\"\n",
    "\n",
    "data = {}\n",
    "data['p'] = []\n",
    "data['p'].append({\n",
    "    'trainset_acc': 100 * train_correct / train_total,\n",
    "    'testset_acc': 100 * test_correct / test_total,\n",
    "    'num_of_zeros': total_Z,\n",
    "    'num_of_weights': total_W,\n",
    "    'pruned_ratio': total_Z / total_W * 100\n",
    "})\n",
    "\n",
    "with open(file_path, 'w') as outfile:\n",
    "    json.dump(data, outfile)"
   ]
  },
  {
   "cell_type": "code",
   "execution_count": null,
   "id": "1e0ee91d-1e5d-45cf-8307-7887e27892e8",
   "metadata": {},
   "outputs": [],
   "source": [
    "print(f'p = {p / 100}')\n",
    "print(f'Trainset Acc: {100 * train_correct / train_total: .1f}%')\n",
    "print(f'Testset Acc: {100 * test_correct / test_total: .1f}%')\n",
    "print(f'Number of Zeros: {total_Z}')\n",
    "print(f'Number of Weights: {total_W}')\n",
    "print(f'Pruned Ratio: {total_Z / total_W * 100: .1f}%')"
   ]
  }
 ],
 "metadata": {
  "kernelspec": {
   "display_name": "Python 3 (ipykernel)",
   "language": "python",
   "name": "python3"
  },
  "language_info": {
   "codemirror_mode": {
    "name": "ipython",
    "version": 3
   },
   "file_extension": ".py",
   "mimetype": "text/x-python",
   "name": "python",
   "nbconvert_exporter": "python",
   "pygments_lexer": "ipython3",
   "version": "3.8.0"
  },
  "widgets": {
   "application/vnd.jupyter.widget-state+json": {
    "state": {},
    "version_major": 2,
    "version_minor": 0
   }
  }
 },
 "nbformat": 4,
 "nbformat_minor": 5
}
