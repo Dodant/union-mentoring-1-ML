{
 "cells": [
  {
   "cell_type": "code",
   "execution_count": 57,
   "id": "a9cbd6ea-dda8-40ef-946a-249dfb04afe5",
   "metadata": {},
   "outputs": [
    {
     "name": "stdout",
     "output_type": "stream",
     "text": [
      "tensor(0.1054)\n",
      "0.10536054214877988\n",
      "0.10536054214877988\n",
      "0.0010536059271544218\n"
     ]
    }
   ],
   "source": [
    "import math\n",
    "import torch\n",
    "\n",
    "def CE_1(predict, label): # input list, list\n",
    "    loss = 0\n",
    "    for i in range(len(predict)):\n",
    "        loss += label[i]*math.log(predict[i])\n",
    "    return -loss\n",
    "\n",
    "def CE_2(predict, label_index): # input list, index\n",
    "    return -math.log(predict[label_index])\n",
    "    \n",
    "def CE(predict, label): # input list, list\n",
    "    return -math.log(predict[torch.argmax(label)])\n",
    "    \n",
    "def FL(predict, label, gamma=2): #input list, list, float\n",
    "    pt = predict[torch.argmax(label)]\n",
    "    return ((1 - pt)**gamma * -math.log(pt)).item()\n",
    "    \n",
    "    \n",
    "# predicts = Tensor, label = Tensor, loss = float\n",
    "predict = torch.tensor([0.05, 0.9, 0.05])\n",
    "label = torch.tensor([0, 1, 0])\n",
    "label_index = 1\n",
    "\n",
    "print(CE_1(predict, label))\n",
    "print(CE_2(predict, label_index))\n",
    "print(CE(predict, label))\n",
    "                 \n",
    "print(FL(predict, label))"
   ]
  }
 ],
 "metadata": {
  "kernelspec": {
   "display_name": "Python 3 (ipykernel)",
   "language": "python",
   "name": "python3"
  },
  "language_info": {
   "codemirror_mode": {
    "name": "ipython",
    "version": 3
   },
   "file_extension": ".py",
   "mimetype": "text/x-python",
   "name": "python",
   "nbconvert_exporter": "python",
   "pygments_lexer": "ipython3",
   "version": "3.8.0"
  },
  "widgets": {
   "application/vnd.jupyter.widget-state+json": {
    "state": {},
    "version_major": 2,
    "version_minor": 0
   }
  }
 },
 "nbformat": 4,
 "nbformat_minor": 5
}
