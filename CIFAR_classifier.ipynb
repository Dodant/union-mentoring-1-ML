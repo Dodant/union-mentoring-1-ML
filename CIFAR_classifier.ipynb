{
 "cells": [
  {
   "cell_type": "code",
   "execution_count": 1,
   "id": "5a5150e0-c9c2-4822-a6d9-1eaacbedd09b",
   "metadata": {},
   "outputs": [],
   "source": [
    "import torch\n",
    "import torchvision\n",
    "import torchvision.transforms as transforms\n",
    "from torch.utils.data.dataset import random_split\n",
    "from torch.utils.data import DataLoader\n",
    "from torchvision.datasets import CIFAR10\n",
    "import numpy as np"
   ]
  },
  {
   "cell_type": "code",
   "execution_count": 2,
   "id": "f5be31cc-2124-420e-92ce-c8bcf1cdd531",
   "metadata": {
    "tags": []
   },
   "outputs": [
    {
     "name": "stdout",
     "output_type": "stream",
     "text": [
      "Files already downloaded and verified\n",
      "Files already downloaded and verified\n"
     ]
    }
   ],
   "source": [
    "transform = transforms.Compose(\n",
    "    [transforms.ToTensor(),\n",
    "     transforms.Resize((64, 64)),\n",
    "     transforms.Normalize((0.4914, 0.4822, 0.4465), (0.2470, 0.2435, 0.2616))])\n",
    "\n",
    "batch_size = 512\n",
    "\n",
    "cifarset = CIFAR10(root='./data', train=True, download=True, transform=transform)\n",
    "\n",
    "trainset, valid_set = random_split(cifarset, [40000, 10000])\n",
    "trainloader = DataLoader(trainset, batch_size=batch_size, shuffle=True, num_workers=4)\n",
    "valid_loader = DataLoader(valid_set, batch_size=batch_size, shuffle=True, num_workers=4)\n",
    "\n",
    "testset = CIFAR10(root='./data', train=False, download=True, transform=transform)\n",
    "testloader = DataLoader(testset, batch_size=batch_size, shuffle=True, num_workers=4)\n",
    "\n",
    "classes = ('plane', 'car', 'bird', 'cat', 'deer', 'dog', 'frog', 'horse', 'ship', 'truck')"
   ]
  },
  {
   "cell_type": "code",
   "execution_count": 3,
   "id": "ae655466-c25e-43be-8750-506420640473",
   "metadata": {
    "tags": []
   },
   "outputs": [
    {
     "data": {
      "text/plain": [
       "Net(\n",
       "  (conv1): Conv2d(3, 64, kernel_size=(5, 5), stride=(1, 1))\n",
       "  (conv2): Conv2d(64, 64, kernel_size=(5, 5), stride=(1, 1))\n",
       "  (conv3): Conv2d(64, 128, kernel_size=(3, 3), stride=(1, 1))\n",
       "  (conv4): Conv2d(128, 128, kernel_size=(3, 3), stride=(1, 1))\n",
       "  (conv5): Conv2d(128, 128, kernel_size=(3, 3), stride=(1, 1))\n",
       "  (conv6): Conv2d(128, 128, kernel_size=(3, 3), stride=(1, 1))\n",
       "  (pool): MaxPool2d(kernel_size=2, stride=2, padding=0, dilation=1, ceil_mode=False)\n",
       "  (fc1): Linear(in_features=2048, out_features=2048, bias=True)\n",
       "  (fc2): Linear(in_features=2048, out_features=1024, bias=True)\n",
       "  (fc3): Linear(in_features=1024, out_features=512, bias=True)\n",
       "  (fc4): Linear(in_features=512, out_features=128, bias=True)\n",
       "  (fc5): Linear(in_features=128, out_features=10, bias=True)\n",
       "  (dropout): Dropout(p=0.5, inplace=False)\n",
       ")"
      ]
     },
     "execution_count": 3,
     "metadata": {},
     "output_type": "execute_result"
    }
   ],
   "source": [
    "import torch.nn as nn\n",
    "import torch.nn.functional as F\n",
    "\n",
    "\n",
    "class Net(nn.Module):\n",
    "    def __init__(self):\n",
    "        super().__init__()\n",
    "        self.conv1 = nn.Conv2d(3, 64, 5)\n",
    "        self.conv2 = nn.Conv2d(64, 64, 5)\n",
    "        \n",
    "        self.conv3 = nn.Conv2d(64, 128, 3)\n",
    "        self.conv4 = nn.Conv2d(128, 128, 3)\n",
    "        \n",
    "        self.conv5 = nn.Conv2d(128, 128, 3)\n",
    "        self.conv6 = nn.Conv2d(128, 128, 3)\n",
    "        \n",
    "        self.pool = nn.MaxPool2d(2, 2)\n",
    "        \n",
    "        self.fc1 = nn.Linear(128 * 4 * 4, 2048)\n",
    "        self.fc2 = nn.Linear(2048, 1024)\n",
    "        self.fc3 = nn.Linear(1024, 512)\n",
    "        self.fc4 = nn.Linear(512, 128)\n",
    "        self.fc5 = nn.Linear(128, 10)\n",
    "        self.dropout = nn.Dropout(0.5)\n",
    "\n",
    "\n",
    "    def forward(self, x):\n",
    "        x = F.relu(self.conv1(x))\n",
    "        x = F.relu(self.conv2(x))\n",
    "        x = self.pool(x)\n",
    "        x = F.relu(self.conv3(x))\n",
    "        x = F.relu(self.conv4(x))\n",
    "        x = self.pool(x)\n",
    "        x = F.relu(self.conv5(x))\n",
    "        x = F.relu(self.conv6(x))\n",
    "        x = self.pool(x)\n",
    "        x = torch.flatten(x, 1) # 배치를 제외한 모든 차원을 평탄화(flatten)\n",
    "        x = self.dropout(F.relu(self.fc1(x)))\n",
    "        x = self.dropout(F.relu(self.fc2(x)))\n",
    "        x = self.dropout(F.relu(self.fc3(x)))\n",
    "        x = F.relu(self.fc4(x))\n",
    "        x = self.fc5(x)\n",
    "        return x\n",
    "\n",
    "\n",
    "net = Net()\n",
    "\n",
    "device = torch.device(\"cuda:0\" if torch.cuda.is_available() else \"cpu\")\n",
    "net.to(device)"
   ]
  },
  {
   "cell_type": "code",
   "execution_count": 4,
   "id": "5db85ed7-2799-497a-9b89-024688d5d5ef",
   "metadata": {},
   "outputs": [],
   "source": [
    "import torch.optim as optim\n",
    "\n",
    "criterion = nn.CrossEntropyLoss()\n",
    "optimizer = optim.Adam(net.parameters(), lr=0.0001)\n",
    "# scheduler = optim.lr_scheduler.LambdaLR(optimizer=optimizer, lr_lambda=lambda epoch: 0.95 ** epoch)"
   ]
  },
  {
   "cell_type": "code",
   "execution_count": 5,
   "id": "ac085d97-ada8-400b-9837-5fa24e653ac3",
   "metadata": {},
   "outputs": [],
   "source": [
    "train_loss_history, train_acc_history = [], []\n",
    "valid_loss_history, valid_acc_history = [], []"
   ]
  },
  {
   "cell_type": "code",
   "execution_count": 6,
   "id": "0178c034-1502-48d5-8edc-db38a1347e8a",
   "metadata": {
    "tags": []
   },
   "outputs": [
    {
     "name": "stdout",
     "output_type": "stream",
     "text": [
      "epoch: 1 || tl: 2.184, vl: 2.039 | ta: 16.070, va: 21.730\n",
      "epoch: 2 || tl: 1.941, vl: 1.910 | ta: 26.940, va: 29.660\n",
      "epoch: 3 || tl: 1.799, vl: 1.732 | ta: 32.307, va: 34.310\n",
      "epoch: 4 || tl: 1.707, vl: 1.751 | ta: 36.060, va: 37.230\n",
      "epoch: 5 || tl: 1.632, vl: 1.568 | ta: 39.377, va: 40.800\n",
      "epoch: 6 || tl: 1.569, vl: 1.562 | ta: 41.900, va: 42.320\n",
      "epoch: 7 || tl: 1.532, vl: 1.452 | ta: 43.243, va: 42.670\n",
      "epoch: 8 || tl: 1.492, vl: 1.526 | ta: 44.820, va: 45.280\n",
      "epoch: 9 || tl: 1.439, vl: 1.529 | ta: 47.470, va: 46.870\n",
      "epoch: 10 || tl: 1.414, vl: 1.347 | ta: 48.440, va: 48.870\n",
      "epoch: 11 || tl: 1.366, vl: 1.550 | ta: 50.385, va: 49.300\n",
      "epoch: 12 || tl: 1.332, vl: 1.264 | ta: 51.435, va: 50.930\n",
      "epoch: 13 || tl: 1.296, vl: 1.389 | ta: 52.947, va: 52.230\n",
      "epoch: 14 || tl: 1.264, vl: 1.324 | ta: 54.250, va: 51.340\n",
      "epoch: 15 || tl: 1.246, vl: 1.314 | ta: 55.242, va: 55.370\n",
      "epoch: 16 || tl: 1.189, vl: 1.347 | ta: 57.487, va: 56.020\n",
      "epoch: 17 || tl: 1.165, vl: 1.140 | ta: 58.440, va: 57.860\n",
      "epoch: 18 || tl: 1.131, vl: 1.183 | ta: 60.012, va: 57.940\n",
      "epoch: 19 || tl: 1.086, vl: 1.169 | ta: 61.562, va: 56.360\n",
      "epoch: 20 || tl: 1.070, vl: 1.116 | ta: 61.913, va: 59.360\n",
      "epoch: 21 || tl: 1.037, vl: 1.296 | ta: 63.462, va: 59.340\n",
      "epoch: 22 || tl: 0.992, vl: 1.186 | ta: 64.947, va: 59.680\n",
      "epoch: 23 || tl: 0.957, vl: 1.097 | ta: 66.177, va: 61.700\n",
      "epoch: 24 || tl: 0.926, vl: 1.008 | ta: 67.460, va: 62.080\n",
      "epoch: 25 || tl: 0.896, vl: 1.043 | ta: 68.518, va: 62.890\n",
      "epoch: 26 || tl: 0.869, vl: 0.944 | ta: 69.590, va: 63.360\n",
      "epoch: 27 || tl: 0.827, vl: 0.949 | ta: 70.830, va: 63.720\n",
      "epoch: 28 || tl: 0.799, vl: 1.032 | ta: 71.970, va: 64.420\n",
      "epoch: 29 || tl: 0.770, vl: 1.090 | ta: 72.890, va: 63.750\n",
      "epoch: 30 || tl: 0.747, vl: 0.937 | ta: 73.877, va: 64.470\n",
      "epoch: 31 || tl: 0.715, vl: 1.065 | ta: 74.785, va: 65.840\n",
      "epoch: 32 || tl: 0.666, vl: 1.038 | ta: 76.590, va: 65.620\n",
      "epoch: 33 || tl: 0.633, vl: 0.966 | ta: 77.600, va: 65.410\n",
      "epoch: 34 || tl: 0.608, vl: 1.087 | ta: 78.605, va: 65.270\n",
      "epoch: 35 || tl: 0.578, vl: 1.262 | ta: 79.720, va: 65.170\n",
      "epoch: 36 || tl: 0.550, vl: 1.064 | ta: 80.625, va: 65.840\n",
      "epoch: 37 || tl: 0.515, vl: 1.143 | ta: 82.048, va: 66.280\n",
      "epoch: 38 || tl: 0.496, vl: 1.030 | ta: 82.675, va: 66.090\n",
      "epoch: 39 || tl: 0.457, vl: 1.201 | ta: 83.940, va: 65.810\n",
      "epoch: 40 || tl: 0.437, vl: 1.284 | ta: 84.677, va: 65.920\n",
      "epoch: 41 || tl: 0.401, vl: 1.333 | ta: 85.895, va: 66.350\n",
      "epoch: 42 || tl: 0.376, vl: 1.215 | ta: 86.688, va: 66.200\n",
      "epoch: 43 || tl: 0.357, vl: 1.520 | ta: 87.505, va: 65.620\n",
      "epoch: 44 || tl: 0.343, vl: 1.113 | ta: 88.045, va: 66.110\n",
      "epoch: 45 || tl: 0.325, vl: 1.265 | ta: 88.665, va: 65.930\n",
      "epoch: 46 || tl: 0.292, vl: 1.258 | ta: 89.637, va: 66.640\n",
      "epoch: 47 || tl: 0.282, vl: 1.744 | ta: 90.215, va: 66.340\n",
      "epoch: 48 || tl: 0.264, vl: 1.370 | ta: 90.675, va: 66.340\n",
      "epoch: 49 || tl: 0.251, vl: 1.465 | ta: 91.162, va: 66.590\n",
      "epoch: 50 || tl: 0.231, vl: 1.598 | ta: 91.955, va: 66.850\n",
      "Finished Training\n"
     ]
    }
   ],
   "source": [
    "epochs = 50\n",
    "\n",
    "for epoch in range(epochs):   # 데이터셋을 수차례 반복합니다.\n",
    "    train_loss = 0.0\n",
    "    train_acc = 0.0\n",
    "    valid_loss = 0.0\n",
    "    valid_acc = 0.0\n",
    "    \n",
    "    train_samples = 0\n",
    "    valid_samples = 0\n",
    "    \n",
    "    for inputs, labels in trainloader:\n",
    "        inputs, labels = inputs.to(device), labels.to(device)\n",
    "\n",
    "        # 변화도(Gradient) 매개변수를 0으로 만들고\n",
    "        optimizer.zero_grad()\n",
    "\n",
    "        # 순전파 + 역전파 + 최적화를 한 후\n",
    "        outputs = net(inputs)\n",
    "        loss = criterion(outputs, labels)\n",
    "        loss.backward()\n",
    "        optimizer.step()\n",
    "#         scheduler.step()\n",
    "\n",
    "        _, preds = torch.max(outputs, 1)\n",
    "        train_loss += loss.item()\n",
    "        train_acc += torch.sum(preds == labels.data)\n",
    "        train_samples += len(inputs)\n",
    "    \n",
    "    else:\n",
    "        # 훈련팔 필요가 없으므로 메모리 절약\n",
    "        with torch.no_grad():\n",
    "            for valid_input, valid_label in valid_loader:\n",
    "                valid_input, valid_label = valid_input.to(device), valid_label.to(device)\n",
    "                valid_outputs = net(valid_input)\n",
    "                valid_loss = criterion(valid_outputs, valid_label)\n",
    "\n",
    "                _, valid_preds = torch.max(valid_outputs, 1)\n",
    "                valid_loss += valid_loss.item()\n",
    "                valid_acc += torch.sum(valid_preds == valid_label.data)\n",
    "                valid_samples += len(valid_input)\n",
    "                \n",
    "    epoch_loss = train_loss / len(trainloader)\n",
    "    epoch_acc = train_acc.float() / train_samples * 100\n",
    "    train_loss_history.append(epoch_loss)\n",
    "    train_acc_history.append(epoch_acc)\n",
    "\n",
    "    valid_epoch_loss = valid_loss * 10 / len(valid_loader)\n",
    "    valid_epoch_acc = valid_acc.float() / valid_samples * 100\n",
    "    valid_loss_history.append(valid_epoch_loss)\n",
    "    valid_acc_history.append(valid_epoch_acc)\n",
    "\n",
    "#     if (epoch + 1) % 5 == 0:\n",
    "    print(f\"epoch: {epoch + 1} || tl: {epoch_loss:.3f}, vl: {valid_epoch_loss:.3f} | ta: {epoch_acc:.3f}, va: {valid_epoch_acc:.3f}\")\n",
    "\n",
    "print('Finished Training')"
   ]
  },
  {
   "cell_type": "code",
   "execution_count": 7,
   "id": "5cc2fe64-11e2-4373-b227-8cba4cbf7950",
   "metadata": {},
   "outputs": [
    {
     "name": "stdout",
     "output_type": "stream",
     "text": [
      "Accuracy of the network on the 10000 test images: 66 %\n"
     ]
    }
   ],
   "source": [
    "correct = 0\n",
    "total = 0\n",
    "# 학습 중이 아니므로, 출력에 대한 변화도를 계산할 필요가 없습니다\n",
    "with torch.no_grad():\n",
    "    for images, labels in testloader:\n",
    "        images, labels = images.to(device), labels.to(device)\n",
    "        \n",
    "        # 신경망에 이미지를 통과시켜 출력을 계산합니다\n",
    "        outputs = net(images)\n",
    "        # 가장 높은 값(energy)를 갖는 분류(class)를 정답으로 선택하겠습니다\n",
    "        _, predicted = torch.max(outputs.data, 1)\n",
    "        total += labels.size(0)\n",
    "        correct += (predicted == labels).sum().item()\n",
    "\n",
    "print('Accuracy of the network on the 10000 test images: %d %%' % (100 * correct / total))"
   ]
  },
  {
   "cell_type": "code",
   "execution_count": 8,
   "id": "039879d6-f3f6-4a9a-9e51-bfbcbc990692",
   "metadata": {},
   "outputs": [
    {
     "name": "stdout",
     "output_type": "stream",
     "text": [
      "Accuracy for class plane is: 67.6 %\n",
      "Accuracy for class car   is: 78.6 %\n",
      "Accuracy for class bird  is: 54.3 %\n",
      "Accuracy for class cat   is: 47.1 %\n",
      "Accuracy for class deer  is: 61.1 %\n",
      "Accuracy for class dog   is: 54.6 %\n",
      "Accuracy for class frog  is: 71.4 %\n",
      "Accuracy for class horse is: 71.8 %\n",
      "Accuracy for class ship  is: 80.3 %\n",
      "Accuracy for class truck is: 76.8 %\n"
     ]
    }
   ],
   "source": [
    "correct_pred = {classname: 0 for classname in classes}\n",
    "total_pred = {classname: 0 for classname in classes}\n",
    "\n",
    "# 변화도는 여전히 필요하지 않습니다\n",
    "with torch.no_grad():\n",
    "    for images, labels in testloader:\n",
    "        images, labels = images.to(device), labels.to(device)\n",
    "        \n",
    "        outputs = net(images)\n",
    "        _, predictions = torch.max(outputs, 1)\n",
    "        # 각 분류별로 올바른 예측 수를 모읍니다\n",
    "        for label, prediction in zip(labels, predictions):\n",
    "            if label == prediction:\n",
    "                correct_pred[classes[label]] += 1\n",
    "            total_pred[classes[label]] += 1\n",
    "\n",
    "\n",
    "# 각 분류별 정확도(accuracy)를 출력합니다\n",
    "for classname, correct_count in correct_pred.items():\n",
    "    accuracy = 100 * float(correct_count) / total_pred[classname]\n",
    "    print(\"Accuracy for class {:5s} is: {:.1f} %\".format(classname, accuracy))"
   ]
  },
  {
   "cell_type": "code",
   "execution_count": 9,
   "id": "f3d033b0-cb6e-42f5-92f9-c04e4a866ef1",
   "metadata": {},
   "outputs": [
    {
     "data": {
      "image/png": "[encoded data removed]",
      "text/plain": [
       "<Figure size 1008x360 with 1 Axes>"
      ]
     },
     "metadata": {
      "needs_background": "light"
     },
     "output_type": "display_data"
    }
   ],
   "source": [
    "import matplotlib.pyplot as plt\n",
    "\n",
    "plt.figure(figsize=(14,5))\n",
    "# plt.subplot(1, 2, 1)  \n",
    "# plt.title(\"Training and Validation Loss\")\n",
    "# plt.plot(valid_loss_history,label=\"val\")\n",
    "# plt.plot(train_loss_history,label=\"train\")\n",
    "# plt.xlabel(\"Epoch\")\n",
    "# plt.ylabel(\"Loss\")\n",
    "# plt.legend()\n",
    "\n",
    "# plt.subplot(1, 2, 2) \n",
    "plt.title(\"Training and Validation Acc\")\n",
    "plt.plot(valid_acc_history,label=\"val\")\n",
    "plt.plot(train_acc_history,label=\"train\")\n",
    "plt.xlabel(\"Epoch\")\n",
    "plt.ylabel(\"Acc\")\n",
    "plt.legend()\n",
    "plt.show()"
   ]
  },
  {
   "cell_type": "code",
   "execution_count": 10,
   "id": "50ac4e98-49e1-4ec0-99b8-11c3f34ac915",
   "metadata": {},
   "outputs": [],
   "source": [
    "PATH = './cifar_net.pth'\n",
    "torch.save(net.state_dict(), PATH)\n",
    "\n",
    "# net = Net()\n",
    "# net.load_state_dict(torch.load(PATH))\n",
    "# net.to(device)"
   ]
  },
  {
   "cell_type": "code",
   "execution_count": null,
   "id": "2cca06f4-838b-4397-8dab-de821ad62bda",
   "metadata": {},
   "outputs": [],
   "source": []
  }
 ],
 "metadata": {
  "kernelspec": {
   "display_name": "Python 3 (ipykernel)",
   "language": "python",
   "name": "python3"
  },
  "language_info": {
   "codemirror_mode": {
    "name": "ipython",
    "version": 3
   },
   "file_extension": ".py",
   "mimetype": "text/x-python",
   "name": "python",
   "nbconvert_exporter": "python",
   "pygments_lexer": "ipython3",
   "version": "3.8.0"
  }
 },
 "nbformat": 4,
 "nbformat_minor": 5
}
