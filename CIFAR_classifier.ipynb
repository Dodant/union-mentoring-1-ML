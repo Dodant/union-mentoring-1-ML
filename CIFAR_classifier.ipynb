{
 "cells": [
  {
   "cell_type": "code",
   "execution_count": 1,
   "id": "5a5150e0-c9c2-4822-a6d9-1eaacbedd09b",
   "metadata": {},
   "outputs": [],
   "source": [
    "import torch\n",
    "import torchvision\n",
    "import torchvision.transforms as transforms\n",
    "from torch.utils.data.dataset import random_split\n",
    "from torch.utils.data import DataLoader\n",
    "from torchvision.datasets import CIFAR10\n",
    "import numpy as np"
   ]
  },
  {
   "cell_type": "code",
   "execution_count": 2,
   "id": "f5be31cc-2124-420e-92ce-c8bcf1cdd531",
   "metadata": {
    "tags": []
   },
   "outputs": [
    {
     "name": "stdout",
     "output_type": "stream",
     "text": [
      "Files already downloaded and verified\n",
      "Files already downloaded and verified\n"
     ]
    }
   ],
   "source": [
    "transform = transforms.Compose(\n",
    "    [transforms.ToTensor(),\n",
    "     transforms.Resize((64, 64)),\n",
    "     transforms.Normalize((0.4914, 0.4822, 0.4465), (0.2470, 0.2435, 0.2616)),\n",
    "     transforms.RandomHorizontalFlip(p=0.5),\n",
    "     transforms.RandomRotation(5)])\n",
    "\n",
    "test_transform = transforms.Compose(\n",
    "    [transforms.ToTensor(),\n",
    "     transforms.Resize((64, 64)),\n",
    "     transforms.Normalize((0.4914, 0.4822, 0.4465), (0.2470, 0.2435, 0.2616))])\n",
    "\n",
    "batch_size = 1024\n",
    "\n",
    "cifarset = CIFAR10(root='./data', train=True, download=True, transform=transform)\n",
    "\n",
    "trainset, valid_set = random_split(cifarset, [40000, 10000])\n",
    "trainloader = DataLoader(trainset, batch_size=batch_size, shuffle=True, num_workers=4)\n",
    "valid_loader = DataLoader(valid_set, batch_size=batch_size, shuffle=True, num_workers=4)\n",
    "\n",
    "testset = CIFAR10(root='./data', train=False, download=True, transform=test_transform)\n",
    "testloader = DataLoader(testset, batch_size=batch_size, shuffle=True, num_workers=4)\n",
    "\n",
    "classes = ('plane', 'car', 'bird', 'cat', 'deer', 'dog', 'frog', 'horse', 'ship', 'truck')"
   ]
  },
  {
   "cell_type": "code",
   "execution_count": 3,
   "id": "ae655466-c25e-43be-8750-506420640473",
   "metadata": {
    "tags": []
   },
   "outputs": [
    {
     "data": {
      "text/plain": [
       "Net(\n",
       "  (layer1): Sequential(\n",
       "    (0): Conv2d(3, 32, kernel_size=(3, 3), stride=(1, 1))\n",
       "    (1): ReLU()\n",
       "    (2): Dropout(p=0.4, inplace=False)\n",
       "    (3): Conv2d(32, 64, kernel_size=(3, 3), stride=(1, 1))\n",
       "    (4): ReLU()\n",
       "    (5): Dropout(p=0.4, inplace=False)\n",
       "    (6): MaxPool2d(kernel_size=2, stride=2, padding=0, dilation=1, ceil_mode=False)\n",
       "  )\n",
       "  (layer2): Sequential(\n",
       "    (0): Conv2d(64, 128, kernel_size=(3, 3), stride=(1, 1))\n",
       "    (1): ReLU()\n",
       "    (2): Dropout(p=0.4, inplace=False)\n",
       "    (3): Conv2d(128, 256, kernel_size=(3, 3), stride=(1, 1))\n",
       "    (4): ReLU()\n",
       "    (5): Dropout(p=0.4, inplace=False)\n",
       "    (6): MaxPool2d(kernel_size=2, stride=2, padding=0, dilation=1, ceil_mode=False)\n",
       "  )\n",
       "  (layer3): Sequential(\n",
       "    (0): Conv2d(256, 512, kernel_size=(3, 3), stride=(1, 1))\n",
       "    (1): ReLU()\n",
       "    (2): Dropout(p=0.4, inplace=False)\n",
       "    (3): Conv2d(512, 1024, kernel_size=(3, 3), stride=(1, 1))\n",
       "    (4): ReLU()\n",
       "    (5): Dropout(p=0.4, inplace=False)\n",
       "  )\n",
       "  (avgpool): AdaptiveAvgPool2d(output_size=1)\n",
       "  (fc1): Linear(in_features=1024, out_features=512, bias=True)\n",
       "  (fc2): Linear(in_features=512, out_features=128, bias=True)\n",
       "  (fc3): Linear(in_features=128, out_features=64, bias=True)\n",
       "  (fc4): Linear(in_features=64, out_features=10, bias=True)\n",
       "  (dropout): Dropout(p=0.5, inplace=False)\n",
       ")"
      ]
     },
     "execution_count": 3,
     "metadata": {},
     "output_type": "execute_result"
    }
   ],
   "source": [
    "import torch.nn as nn\n",
    "import torch.nn.functional as F\n",
    "\n",
    "\n",
    "class Net(nn.Module):\n",
    "    def __init__(self):\n",
    "        super().__init__()\n",
    "        self.layer1 = nn.Sequential(\n",
    "            nn.Conv2d(3, 32, 3),\n",
    "            nn.ReLU(),\n",
    "            nn.Dropout(0.4),\n",
    "            nn.Conv2d(32, 64, 3),\n",
    "            nn.ReLU(),\n",
    "            nn.Dropout(0.4),\n",
    "            nn.MaxPool2d(2, 2),\n",
    "        )\n",
    "        self.layer2 = nn.Sequential(\n",
    "            nn.Conv2d(64, 128, 3),\n",
    "            nn.ReLU(),\n",
    "            nn.Dropout(0.4),\n",
    "            nn.Conv2d(128, 256, 3),\n",
    "            nn.ReLU(),\n",
    "            nn.Dropout(0.4),\n",
    "            nn.MaxPool2d(2, 2),\n",
    "        )\n",
    "        self.layer3 = nn.Sequential(\n",
    "            nn.Conv2d(256, 512, 3),\n",
    "            nn.ReLU(),\n",
    "            nn.Dropout(0.4),\n",
    "            nn.Conv2d(512, 1024, 3),\n",
    "            nn.ReLU(),\n",
    "            nn.Dropout(0.4),\n",
    "        )\n",
    "\n",
    "        self.avgpool = nn.AdaptiveAvgPool2d(1)\n",
    "        self.fc1 = nn.Linear(1024, 512)\n",
    "        self.fc2 = nn.Linear(512, 128)\n",
    "        self.fc3 = nn.Linear(128, 64)\n",
    "        self.fc4 = nn.Linear(64, 10)\n",
    "        self.dropout = nn.Dropout(0.5)\n",
    "\n",
    "\n",
    "    def forward(self, x):\n",
    "        x = self.layer1(x)\n",
    "        x = self.layer2(x)\n",
    "        x = self.layer3(x)\n",
    "        x = self.avgpool(x)\n",
    "\n",
    "        x = torch.flatten(x, 1)\n",
    "        x = self.dropout(F.relu(self.fc1(x)))\n",
    "        x = self.dropout(F.relu(self.fc2(x)))\n",
    "        x = self.dropout(F.relu(self.fc3(x)))\n",
    "        x = self.fc4(x)\n",
    "        return x\n",
    "\n",
    "\n",
    "net = Net()\n",
    "\n",
    "device = torch.device(\"cuda:0\" if torch.cuda.is_available() else \"cpu\")\n",
    "net.to(device)"
   ]
  },
  {
   "cell_type": "code",
   "execution_count": 4,
   "id": "5db85ed7-2799-497a-9b89-024688d5d5ef",
   "metadata": {},
   "outputs": [],
   "source": [
    "import torch.optim as optim\n",
    "\n",
    "criterion = nn.CrossEntropyLoss()\n",
    "optimizer = optim.Adam(net.parameters(), lr=0.001)\n",
    "# scheduler = optim.lr_scheduler.LambdaLR(optimizer=optimizer, lr_lambda=lambda epoch: 0.95 ** epoch)"
   ]
  },
  {
   "cell_type": "code",
   "execution_count": 5,
   "id": "ac085d97-ada8-400b-9837-5fa24e653ac3",
   "metadata": {},
   "outputs": [],
   "source": [
    "train_loss_history, train_acc_history = [], []\n",
    "valid_loss_history, valid_acc_history = [], []"
   ]
  },
  {
   "cell_type": "code",
   "execution_count": 6,
   "id": "0178c034-1502-48d5-8edc-db38a1347e8a",
   "metadata": {
    "tags": []
   },
   "outputs": [
    {
     "name": "stdout",
     "output_type": "stream",
     "text": [
      "epoch: 1 || tl: 2.278, vl: 2.204 | ta: 12.437, va: 16.380\n",
      "epoch: 2 || tl: 2.103, vl: 2.017 | ta: 17.805, va: 17.250\n",
      "epoch: 3 || tl: 1.962, vl: 1.927 | ta: 19.160, va: 20.270\n",
      "epoch: 4 || tl: 1.911, vl: 1.908 | ta: 20.465, va: 21.650\n",
      "epoch: 5 || tl: 1.871, vl: 1.856 | ta: 23.345, va: 24.890\n",
      "epoch: 6 || tl: 1.810, vl: 1.805 | ta: 27.727, va: 28.570\n",
      "epoch: 7 || tl: 1.717, vl: 1.815 | ta: 32.152, va: 30.100\n",
      "epoch: 8 || tl: 1.661, vl: 1.712 | ta: 34.747, va: 33.600\n",
      "epoch: 9 || tl: 1.561, vl: 1.544 | ta: 39.182, va: 40.960\n",
      "epoch: 10 || tl: 1.516, vl: 1.553 | ta: 41.942, va: 41.010\n",
      "epoch: 11 || tl: 1.452, vl: 1.466 | ta: 44.420, va: 45.410\n",
      "epoch: 12 || tl: 1.409, vl: 1.411 | ta: 47.035, va: 47.610\n",
      "epoch: 13 || tl: 1.358, vl: 1.352 | ta: 49.045, va: 50.030\n",
      "epoch: 14 || tl: 1.311, vl: 1.476 | ta: 52.057, va: 48.960\n",
      "epoch: 15 || tl: 1.294, vl: 1.382 | ta: 53.103, va: 50.250\n",
      "epoch: 16 || tl: 1.240, vl: 1.307 | ta: 55.868, va: 54.750\n",
      "epoch: 17 || tl: 1.203, vl: 1.178 | ta: 57.357, va: 58.540\n",
      "epoch: 18 || tl: 1.126, vl: 1.181 | ta: 60.430, va: 59.400\n",
      "epoch: 19 || tl: 1.088, vl: 1.199 | ta: 62.182, va: 59.750\n",
      "epoch: 20 || tl: 1.093, vl: 1.189 | ta: 62.527, va: 60.610\n",
      "epoch: 21 || tl: 1.048, vl: 1.159 | ta: 64.090, va: 61.660\n",
      "epoch: 22 || tl: 1.024, vl: 1.041 | ta: 64.575, va: 64.630\n",
      "epoch: 23 || tl: 0.975, vl: 1.007 | ta: 66.950, va: 66.570\n",
      "epoch: 24 || tl: 0.945, vl: 0.998 | ta: 67.897, va: 66.450\n",
      "epoch: 25 || tl: 0.938, vl: 1.082 | ta: 68.520, va: 65.150\n",
      "epoch: 26 || tl: 0.921, vl: 1.027 | ta: 69.238, va: 65.820\n",
      "epoch: 27 || tl: 0.916, vl: 1.023 | ta: 69.585, va: 67.520\n",
      "epoch: 28 || tl: 0.939, vl: 0.972 | ta: 68.795, va: 68.180\n",
      "epoch: 29 || tl: 0.877, vl: 1.035 | ta: 70.555, va: 67.300\n",
      "epoch: 30 || tl: 0.846, vl: 1.002 | ta: 71.863, va: 68.380\n",
      "epoch: 31 || tl: 0.841, vl: 0.887 | ta: 71.760, va: 70.830\n",
      "epoch: 32 || tl: 0.826, vl: 0.977 | ta: 73.110, va: 69.110\n",
      "epoch: 33 || tl: 0.811, vl: 0.866 | ta: 73.073, va: 71.560\n",
      "epoch: 34 || tl: 0.785, vl: 0.892 | ta: 74.052, va: 71.780\n",
      "epoch: 35 || tl: 0.775, vl: 0.920 | ta: 74.470, va: 71.080\n",
      "epoch: 36 || tl: 0.749, vl: 0.871 | ta: 75.065, va: 72.540\n",
      "epoch: 37 || tl: 0.739, vl: 0.865 | ta: 75.725, va: 73.350\n",
      "epoch: 38 || tl: 0.726, vl: 0.853 | ta: 76.327, va: 73.570\n",
      "epoch: 39 || tl: 0.703, vl: 0.932 | ta: 77.105, va: 71.050\n",
      "epoch: 40 || tl: 0.724, vl: 0.861 | ta: 76.198, va: 73.250\n",
      "epoch: 41 || tl: 0.700, vl: 0.876 | ta: 77.247, va: 73.480\n",
      "epoch: 42 || tl: 0.689, vl: 0.809 | ta: 77.573, va: 75.180\n",
      "epoch: 43 || tl: 0.663, vl: 0.841 | ta: 78.705, va: 74.320\n",
      "epoch: 44 || tl: 0.705, vl: 0.804 | ta: 77.262, va: 75.850\n",
      "epoch: 45 || tl: 0.661, vl: 0.886 | ta: 78.393, va: 73.780\n",
      "epoch: 46 || tl: 0.661, vl: 0.908 | ta: 78.970, va: 72.310\n",
      "epoch: 47 || tl: 0.658, vl: 0.785 | ta: 78.630, va: 75.910\n",
      "epoch: 48 || tl: 0.621, vl: 0.788 | ta: 80.200, va: 76.250\n",
      "epoch: 49 || tl: 0.613, vl: 0.791 | ta: 80.607, va: 76.270\n",
      "epoch: 50 || tl: 0.617, vl: 0.873 | ta: 80.232, va: 74.290\n",
      "epoch: 51 || tl: 0.622, vl: 0.807 | ta: 80.220, va: 76.080\n",
      "epoch: 52 || tl: 0.601, vl: 0.786 | ta: 80.770, va: 76.590\n",
      "epoch: 53 || tl: 0.569, vl: 0.786 | ta: 81.672, va: 76.800\n",
      "epoch: 54 || tl: 0.580, vl: 0.783 | ta: 81.228, va: 76.420\n",
      "epoch: 55 || tl: 0.564, vl: 0.803 | ta: 82.192, va: 76.710\n",
      "epoch: 56 || tl: 0.580, vl: 0.891 | ta: 81.830, va: 74.890\n",
      "epoch: 57 || tl: 0.627, vl: 0.752 | ta: 80.188, va: 77.790\n",
      "epoch: 58 || tl: 0.542, vl: 0.793 | ta: 82.645, va: 76.880\n",
      "epoch: 59 || tl: 0.532, vl: 0.762 | ta: 83.277, va: 77.760\n",
      "epoch: 60 || tl: 0.542, vl: 0.737 | ta: 82.630, va: 78.700\n",
      "epoch: 61 || tl: 0.527, vl: 0.727 | ta: 83.015, va: 78.380\n",
      "epoch: 62 || tl: 0.527, vl: 0.750 | ta: 83.377, va: 78.110\n",
      "epoch: 63 || tl: 0.504, vl: 0.800 | ta: 83.765, va: 77.500\n",
      "epoch: 64 || tl: 0.505, vl: 0.752 | ta: 84.052, va: 78.330\n",
      "epoch: 65 || tl: 0.507, vl: 0.784 | ta: 83.955, va: 77.880\n",
      "epoch: 66 || tl: 0.499, vl: 0.716 | ta: 84.107, va: 79.340\n",
      "epoch: 67 || tl: 0.476, vl: 0.805 | ta: 84.950, va: 77.920\n",
      "epoch: 68 || tl: 0.505, vl: 0.713 | ta: 83.860, va: 79.320\n",
      "epoch: 69 || tl: 0.480, vl: 0.746 | ta: 84.880, va: 78.750\n",
      "epoch: 70 || tl: 0.478, vl: 0.839 | ta: 84.785, va: 77.060\n",
      "Finished Training\n"
     ]
    }
   ],
   "source": [
    "epochs = 70\n",
    "\n",
    "for epoch in range(epochs):   # 데이터셋을 수차례 반복합니다.\n",
    "    train_loss = 0.0\n",
    "    train_acc = 0.0\n",
    "    valid_loss = 0.0\n",
    "    valid_acc = 0.0\n",
    "    \n",
    "    train_samples = 0\n",
    "    valid_samples = 0\n",
    "    \n",
    "    for inputs, labels in trainloader:\n",
    "        inputs, labels = inputs.to(device), labels.to(device)\n",
    "\n",
    "        # 변화도(Gradient) 매개변수를 0으로 만들고\n",
    "        optimizer.zero_grad()\n",
    "\n",
    "        # 순전파 + 역전파 + 최적화를 한 후\n",
    "        outputs = net(inputs)\n",
    "        loss = criterion(outputs, labels)\n",
    "        loss.backward()\n",
    "        optimizer.step()\n",
    "        # scheduler.step()\n",
    "\n",
    "        _, preds = torch.max(outputs, 1)\n",
    "        train_loss += loss.item()\n",
    "        train_acc += torch.sum(preds == labels.data)\n",
    "        train_samples += len(inputs)\n",
    "    \n",
    "    else:\n",
    "        # 훈련팔 필요가 없으므로 메모리 절약\n",
    "        with torch.no_grad():\n",
    "            for valid_input, valid_label in valid_loader:\n",
    "                valid_input, valid_label = valid_input.to(device), valid_label.to(device)\n",
    "                valid_outputs = net(valid_input)\n",
    "                temp_loss = criterion(valid_outputs, valid_label)\n",
    "\n",
    "                _, valid_preds = torch.max(valid_outputs, 1)\n",
    "                valid_loss += temp_loss.item()\n",
    "                valid_acc += torch.sum(valid_preds == valid_label.data)\n",
    "                valid_samples += len(valid_input)\n",
    "                \n",
    "    epoch_loss = train_loss / len(trainloader)\n",
    "    epoch_acc = train_acc.float() / train_samples * 100\n",
    "    train_loss_history.append(epoch_loss)\n",
    "    train_acc_history.append(epoch_acc)\n",
    "\n",
    "    valid_epoch_loss = valid_loss / len(valid_loader)\n",
    "    valid_epoch_acc = valid_acc.float() / valid_samples * 100\n",
    "    valid_loss_history.append(valid_epoch_loss)\n",
    "    valid_acc_history.append(valid_epoch_acc)\n",
    "\n",
    "    # if (epoch + 1) % 5 == 0:\n",
    "    print(f\"epoch: {epoch + 1} || tl: {epoch_loss:.3f}, vl: {valid_epoch_loss:.3f} | ta: {epoch_acc:.3f}, va: {valid_epoch_acc:.3f}\")\n",
    "\n",
    "print('Finished Training')"
   ]
  },
  {
   "cell_type": "code",
   "execution_count": 7,
   "id": "5cc2fe64-11e2-4373-b227-8cba4cbf7950",
   "metadata": {},
   "outputs": [
    {
     "name": "stdout",
     "output_type": "stream",
     "text": [
      "Accuracy of the network on the 10000 test images: 77 %\n"
     ]
    }
   ],
   "source": [
    "correct = 0\n",
    "total = 0\n",
    "# 학습 중이 아니므로, 출력에 대한 변화도를 계산할 필요가 없습니다\n",
    "with torch.no_grad():\n",
    "    for images, labels in testloader:\n",
    "        images, labels = images.to(device), labels.to(device)\n",
    "        \n",
    "        # 신경망에 이미지를 통과시켜 출력을 계산합니다\n",
    "        outputs = net(images)\n",
    "        # 가장 높은 값(energy)를 갖는 분류(class)를 정답으로 선택하겠습니다\n",
    "        _, predicted = torch.max(outputs.data, 1)\n",
    "        total += labels.size(0)\n",
    "        correct += (predicted == labels).sum().item()\n",
    "\n",
    "print('Accuracy of the network on the 10000 test images: %d %%' % (100 * correct / total))"
   ]
  },
  {
   "cell_type": "code",
   "execution_count": 8,
   "id": "039879d6-f3f6-4a9a-9e51-bfbcbc990692",
   "metadata": {},
   "outputs": [
    {
     "name": "stdout",
     "output_type": "stream",
     "text": [
      "Accuracy for class plane is: 85.9 %\n",
      "Accuracy for class car   is: 90.6 %\n",
      "Accuracy for class bird  is: 65.0 %\n",
      "Accuracy for class cat   is: 56.3 %\n",
      "Accuracy for class deer  is: 80.7 %\n",
      "Accuracy for class dog   is: 62.8 %\n",
      "Accuracy for class frog  is: 95.0 %\n",
      "Accuracy for class horse is: 77.0 %\n",
      "Accuracy for class ship  is: 83.1 %\n",
      "Accuracy for class truck is: 88.5 %\n"
     ]
    }
   ],
   "source": [
    "correct_pred = {classname: 0 for classname in classes}\n",
    "total_pred = {classname: 0 for classname in classes}\n",
    "\n",
    "# 변화도는 여전히 필요하지 않습니다\n",
    "with torch.no_grad():\n",
    "    for images, labels in testloader:\n",
    "        images, labels = images.to(device), labels.to(device)\n",
    "        \n",
    "        outputs = net(images)\n",
    "        _, predictions = torch.max(outputs, 1)\n",
    "        # 각 분류별로 올바른 예측 수를 모읍니다\n",
    "        for label, prediction in zip(labels, predictions):\n",
    "            if label == prediction:\n",
    "                correct_pred[classes[label]] += 1\n",
    "            total_pred[classes[label]] += 1\n",
    "\n",
    "\n",
    "# 각 분류별 정확도(accuracy)를 출력합니다\n",
    "for classname, correct_count in correct_pred.items():\n",
    "    accuracy = 100 * float(correct_count) / total_pred[classname]\n",
    "    print(\"Accuracy for class {:5s} is: {:.1f} %\".format(classname, accuracy))"
   ]
  },
  {
   "cell_type": "code",
   "execution_count": 9,
   "id": "f3d033b0-cb6e-42f5-92f9-c04e4a866ef1",
   "metadata": {},
   "outputs": [
    {
     "data": {
      "image/png": "[encoded data removed]",
      "text/plain": [
       "<Figure size 1008x360 with 1 Axes>"
      ]
     },
     "metadata": {
      "needs_background": "light"
     },
     "output_type": "display_data"
    }
   ],
   "source": [
    "import matplotlib.pyplot as plt\n",
    "\n",
    "plt.figure(figsize=(14,5))\n",
    "# plt.subplot(1, 2, 1)  \n",
    "# plt.title(\"Training and Validation Loss\")\n",
    "# plt.plot(valid_loss_history,label=\"val\")\n",
    "# plt.plot(train_loss_history,label=\"train\")\n",
    "# plt.xlabel(\"Epoch\")\n",
    "# plt.ylabel(\"Loss\")\n",
    "# plt.legend()\n",
    "\n",
    "# plt.subplot(1, 2, 2) \n",
    "plt.title(\"Training and Validation Acc\")\n",
    "plt.plot(valid_acc_history,label=\"val\")\n",
    "plt.plot(train_acc_history,label=\"train\")\n",
    "plt.xlabel(\"Epoch\")\n",
    "plt.ylabel(\"Acc\")\n",
    "plt.legend()\n",
    "plt.show()"
   ]
  },
  {
   "cell_type": "code",
   "execution_count": 10,
   "id": "50ac4e98-49e1-4ec0-99b8-11c3f34ac915",
   "metadata": {},
   "outputs": [],
   "source": [
    "PATH = './cifar_net.pth'\n",
    "torch.save(net.state_dict(), PATH)\n",
    "\n",
    "net = Net()\n",
    "net.load_state_dict(torch.load(PATH))\n",
    "net.to(device)"
   ]
  },
  {
   "cell_type": "code",
   "execution_count": null,
   "id": "2cca06f4-838b-4397-8dab-de821ad62bda",
   "metadata": {},
   "outputs": [],
   "source": []
  }
 ],
 "metadata": {
  "kernelspec": {
   "display_name": "Python 3 (ipykernel)",
   "language": "python",
   "name": "python3"
  },
  "language_info": {
   "codemirror_mode": {
    "name": "ipython",
    "version": 3
   },
   "file_extension": ".py",
   "mimetype": "text/x-python",
   "name": "python",
   "nbconvert_exporter": "python",
   "pygments_lexer": "ipython3",
   "version": "3.8.0"
  },
  "widgets": {
   "application/vnd.jupyter.widget-state+json": {
    "state": {},
    "version_major": 2,
    "version_minor": 0
   }
  }
 },
 "nbformat": 4,
 "nbformat_minor": 5
}
